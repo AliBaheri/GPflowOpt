{
 "cells": [
  {
   "cell_type": "markdown",
   "metadata": {},
   "source": [
    "# Bayesian Optimization with black-box constraints\n",
    "*Joachim van der Herten*"
   ]
  },
  {
   "cell_type": "markdown",
   "metadata": {},
   "source": [
    "This notebook demonstrates the optimization of an analytical function using the well known Expected Improvement (EI) function. The problem is constrained by a black-box constraint function. The feasible regions are learnt jointly with the optimal regions by considering a second acquisition function known as the Probability of Feasibility (PoF), following the approach of Gardner et al. (2014)"
   ]
  },
  {
   "cell_type": "code",
   "execution_count": 1,
   "metadata": {
    "collapsed": true
   },
   "outputs": [],
   "source": [
    "%matplotlib inline\n",
    "from matplotlib import rc\n",
    "rc('text', usetex=True)\n",
    "import matplotlib.pyplot as plt\n",
    "\n",
    "\n",
    "import GPflow\n",
    "import GPflowOpt\n",
    "import numpy as np"
   ]
  },
  {
   "cell_type": "markdown",
   "metadata": {},
   "source": [
    "First we set up an objective function (the townsend function) and a constraint function. We further assume both functions are black-box. We also define the optimization domain (2 continuous parameters)."
   ]
  },
  {
   "cell_type": "code",
   "execution_count": 2,
   "metadata": {},
   "outputs": [
    {
     "data": {
      "image/png": "[encoded data removed]",
      "text/plain": [
       "<matplotlib.figure.Figure at 0x7fddc1966198>"
      ]
     },
     "metadata": {},
     "output_type": "display_data"
    }
   ],
   "source": [
    "# Objective & constraint\n",
    "def townsend(X):\n",
    "    return -(np.cos((X[:,0]-0.1)*X[:,1])**2 + X[:,0] * np.sin(3*X[:,0]+X[:,1]))[:,None]\n",
    "\n",
    "def constraint(X):\n",
    "    return -(-np.cos(1.5*X[:,0]+np.pi)*np.cos(1.5*X[:,1])+np.sin(1.5*X[:,0]+np.pi)*np.sin(1.5*X[:,1]))[:,None]\n",
    "\n",
    "# Setup input domain\n",
    "domain = GPflowOpt.domain.ContinuousParameter('x1', -2.25, 2.5) + \\\n",
    "         GPflowOpt.domain.ContinuousParameter('x2', -2.5, 1.75)\n",
    "\n",
    "# Plot\n",
    "def plotfx():  \n",
    "    X = GPflowOpt.design.FactorialDesign(101, domain).generate()\n",
    "    Zo = townsend(X)\n",
    "    Zc = constraint(X)\n",
    "    mask = Zc>=0\n",
    "    Zc[mask] = np.nan\n",
    "    Zc[np.logical_not(mask)] = 1\n",
    "    Z = Zo * Zc\n",
    "    shape = (101, 101)\n",
    "\n",
    "    f, axes = plt.subplots(1, 1, figsize=(7, 5))\n",
    "    axes.contourf(X[:,0].reshape(shape), X[:,1].reshape(shape), Z.reshape(shape))\n",
    "    axes.set_xlabel('$x_1$')\n",
    "    axes.set_ylabel('$x_2$')\n",
    "    axes.set_xlim([domain.lower[0], domain.upper[0]])\n",
    "    axes.set_ylim([domain.lower[1], domain.upper[1]])\n",
    "    return axes\n",
    "\n",
    "plotfx();"
   ]
  },
  {
   "cell_type": "markdown",
   "metadata": {},
   "source": [
    "We proceed by assigning the objective and constraint function a GP prior. Both functions are evaluated on a space-filling set of points (here, a Latin Hypercube design). Two GPR models are created.\n",
    "The EI is based on the model of the objective function (townsend), whereas PoF is based on the model of the constraint function. We then define the joint criterioin as the product of the EI and PoF."
   ]
  },
  {
   "cell_type": "code",
   "execution_count": null,
   "metadata": {
    "collapsed": true
   },
   "outputs": [],
   "source": [
    "# Initial evaluations\n",
    "design = GPflowOpt.design.LatinHyperCube(11, domain)\n",
    "X = design.generate()\n",
    "Yo = townsend(X)\n",
    "Yc = constraint(X)\n",
    "\n",
    "# Models\n",
    "objective_model = GPflow.gpr.GPR(X, Yo, GPflow.kernels.Matern52(2, ARD=True))\n",
    "objective_model.likelihood.variance = 0.01\n",
    "constraint_model = GPflow.gpr.GPR(np.copy(X), Yc, GPflow.kernels.Matern52(2, ARD=True))\n",
    "constraint_model.likelihood.variance = 0.01\n",
    "constraint_model.likelihood.variance.prior =  GPflow.priors.Gamma(1./4.,1.0)\n",
    "\n",
    "# Setup\n",
    "ei = GPflowOpt.acquisition.ExpectedImprovement(objective_model)\n",
    "pof = GPflowOpt.acquisition.ProbabilityOfFeasibility(constraint_model)\n",
    "joint = ei * pof"
   ]
  },
  {
   "cell_type": "markdown",
   "metadata": {},
   "source": [
    "We can now inspect our belief about the optimization problem by plotting the models, the EI, PoF and joint mappings. Both models clearly are not very accurate yet. More specifically, the constraint model does not correctly capture the feasibility yet."
   ]
  },
  {
   "cell_type": "code",
   "execution_count": null,
   "metadata": {
    "scrolled": false
   },
   "outputs": [],
   "source": [
    "def plot():\n",
    "    Xeval = GPflowOpt.design.FactorialDesign(101, domain).generate()\n",
    "    Yevala,_ = joint.operands[0].models[0].predict_f(Xeval)\n",
    "    Yevalb,_ = joint.operands[1].models[0].predict_f(Xeval)\n",
    "    Yevalc = np.maximum(ei.evaluate(Xeval), 0)\n",
    "    Yevald = pof.evaluate(Xeval)\n",
    "    Yevale = np.maximum(joint.evaluate(Xeval), 0)\n",
    "    shape = (101, 101)\n",
    "    plots = [('Objective model', Yevala), ('Constraint model', Yevalb), \n",
    "             ('EI', Yevalc), ('PoF', Yevald), \n",
    "             ('EI * PoF', Yevale)]\n",
    "\n",
    "    plt.figure(figsize=(10,10))\n",
    "    for i, plot in enumerate(plots):\n",
    "        if i == 4:\n",
    "            plt.subplot(3,3,8)\n",
    "            ax = plt.subplot2grid((3, 4), (2, 1), colspan=2)\n",
    "        else:\n",
    "            ax = plt.subplot2grid((3, 2), (int(i/2), i % 2))\n",
    "            \n",
    "        ax.contourf(Xeval[:,0].reshape(shape), Xeval[:,1].reshape(shape), plot[1].reshape(shape))\n",
    "        ax.scatter(joint.data[0][:,0], joint.data[0][:,1], c='w')\n",
    "        ax.set_title(plot[0])\n",
    "        ax.set_xlabel('$x_1$')\n",
    "        ax.set_ylabel('$x_2$')\n",
    "        ax.set_xlim([domain.lower[0], domain.upper[0]])\n",
    "        ax.set_ylim([domain.lower[1], domain.upper[1]])\n",
    "    plt.tight_layout()\n",
    "    \n",
    "# Plot representing the model belief, and the belief mapped to EI and PoF\n",
    "plot()\n",
    "print(constraint_model)"
   ]
  },
  {
   "cell_type": "markdown",
   "metadata": {},
   "source": [
    "Running the Bayesian optimization is the next step. For this, we must set up an appropriate strategy to optimize the joint acquisition function. Sometimes this can be a bit challenging as often large non-varying areas may occur. A typical strategy is to apply a Monte Carlo optimization step first, then optimize the point with the best value (several variations exist). This approach is followed here. We then run the Bayesian Optimization and allow it to select up to 50 additional decisions. \n",
    "\n",
    "The joint acquisition function assures the feasibility (w.r.t the constraint) is taken into account while selecting decisions for optimality."
   ]
  },
  {
   "cell_type": "code",
   "execution_count": null,
   "metadata": {
    "scrolled": false
   },
   "outputs": [],
   "source": [
    "# First setup the optimization strategy for the acquisition function\n",
    "# Combining MC step followed by L-BFGS-B\n",
    "acquisition_opt = GPflowOpt.optim.StagedOptimizer([GPflowOpt.optim.MCOptimizer(domain, 200), \n",
    "                                                   GPflowOpt.optim.SciPyOptimizer(domain)])\n",
    "\n",
    "# Then run the BayesianOptimizer for 50 iterations\n",
    "optimizer = GPflowOpt.BayesianOptimizer(domain, joint, optimizer=acquisition_opt, scaling=True)\n",
    "optimizer.optimize([townsend, constraint], n_iter=50)"
   ]
  },
  {
   "cell_type": "markdown",
   "metadata": {},
   "source": [
    "If we now plot the belief, we clearly see the constraint model has improved significantly. More specifically, its PoF mapping is an accurate representation of the true constraint function. By multiplying the EI by the PoF, the search is restricted to the feasible regions."
   ]
  },
  {
   "cell_type": "code",
   "execution_count": null,
   "metadata": {
    "scrolled": false
   },
   "outputs": [],
   "source": [
    "# Plotting belief again\n",
    "print(constraint_model)\n",
    "plot()"
   ]
  },
  {
   "cell_type": "markdown",
   "metadata": {},
   "source": [
    "If we inspect the sampling distribution, we can see that the amount of samples in the infeasible regions is limited. The optimization has focussed on the feasible areas. In addition, it has been active mostly in two optimal regions."
   ]
  },
  {
   "cell_type": "code",
   "execution_count": null,
   "metadata": {},
   "outputs": [],
   "source": [
    "# Plot function, overlayed by the constraint. Also plot the samples\n",
    "axes = plotfx()\n",
    "valid = joint.feasible_data_index()\n",
    "axes.scatter(joint.data[0][valid,0], joint.data[0][valid,1], label='feasible data', c='w')\n",
    "axes.scatter(joint.data[0][np.logical_not(valid),0], joint.data[0][np.logical_not(valid),1], label='data', c='r');\n",
    "axes.legend()"
   ]
  },
  {
   "cell_type": "markdown",
   "metadata": {},
   "source": [
    "Finally, the evolution of the best value over the number of iterations clearly shows a very good solution is already found after only a few evaluations."
   ]
  },
  {
   "cell_type": "code",
   "execution_count": null,
   "metadata": {},
   "outputs": [],
   "source": [
    "f, axes = plt.subplots(1, 1, figsize=(7, 5))\n",
    "f = joint.data[1][:,0]\n",
    "f[joint.data[1][:,1] > 0] = np.inf\n",
    "axes.plot(np.arange(0, joint.data[0].shape[0]), np.minimum.accumulate(f))\n",
    "axes.set_ylabel('fmin')\n",
    "axes.set_xlabel('Number of evaluated points');"
   ]
  },
  {
   "cell_type": "code",
   "execution_count": null,
   "metadata": {
    "collapsed": true
   },
   "outputs": [],
   "source": []
  }
 ],
 "metadata": {
  "kernelspec": {
   "display_name": "Python 3",
   "language": "python",
   "name": "python3"
  },
  "language_info": {
   "codemirror_mode": {
    "name": "ipython",
    "version": 3
   },
   "file_extension": ".py",
   "mimetype": "text/x-python",
   "name": "python",
   "nbconvert_exporter": "python",
   "pygments_lexer": "ipython3",
   "version": "3.5.2"
  }
 },
 "nbformat": 4,
 "nbformat_minor": 1
}
