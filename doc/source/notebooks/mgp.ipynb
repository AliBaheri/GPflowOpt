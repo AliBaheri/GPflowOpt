{
 "cells": [
  {
   "cell_type": "markdown",
   "metadata": {},
   "source": [
    "# Marginal GP\n",
    "*Nicolas Knudde*"
   ]
  },
  {
   "cell_type": "markdown",
   "metadata": {},
   "source": [
    "This notebook demonstrates the approximate marginalisation of the hyperparameters during testing time. A Laplace approximation is used here and is described in Garnett et. al. (2013)"
   ]
  },
  {
   "cell_type": "code",
   "execution_count": 1,
   "metadata": {
    "collapsed": true
   },
   "outputs": [],
   "source": [
    "%matplotlib inline\n",
    "from matplotlib import rc\n",
    "rc('text', usetex=True)\n",
    "import matplotlib.pyplot as plt\n",
    "\n",
    "\n",
    "import GPflow\n",
    "import GPflowOpt\n",
    "import numpy as np"
   ]
  },
  {
   "cell_type": "markdown",
   "metadata": {},
   "source": [
    "First we set up a test dataset"
   ]
  },
  {
   "cell_type": "code",
   "execution_count": 2,
   "metadata": {},
   "outputs": [],
   "source": [
    "np.random.seed(3)\n",
    "x = np.random.rand(8, 1) * 8-4\n",
    "y = np.cos(x) +np.random.randn(8,1)*0.1"
   ]
  },
  {
   "cell_type": "markdown",
   "metadata": {},
   "source": [
    "We proceed by constructing a Marginal GP wrapper around a GPR object and defining some suitable priors on the hyperparameters. Eventually we optimise the model."
   ]
  },
  {
   "cell_type": "code",
   "execution_count": 3,
   "metadata": {
    "collapsed": true
   },
   "outputs": [
    {
     "data": {
      "text/plain": [
       "      fun: 11.219668379985972\n hess_inv: <3x3 LbfgsInvHessProduct with dtype=float64>\n      jac: array([ -8.31933750e-06,   6.32051531e-06,  -1.65760996e-06])\n  message: b'CONVERGENCE: NORM_OF_PROJECTED_GRADIENT_<=_PGTOL'\n     nfev: 9\n      nit: 6\n   status: 0\n  success: True\n        x: array([ 0.77306105,  0.02511576, -1.60659824])"
      ]
     },
     "execution_count": 3,
     "metadata": {},
     "output_type": "execute_result"
    }
   ],
   "source": [
    "m = GPflowOpt.models.MGP(GPflow.gpr.GPR(x, y, GPflow.kernels.RBF(1, lengthscales=1, variance=1)))\n",
    "m.kern.lengthscales.prior = GPflow.priors.Gamma(3, 1/3)\n",
    "m.kern.variance.prior = GPflow.priors.Gamma(3, 1/3)\n",
    "m.likelihood.variance.prior = GPflow.priors.LogNormal(0, 1)\n",
    "m.optimize()"
   ]
  },
  {
   "cell_type": "markdown",
   "metadata": {},
   "source": [
    "Now we compare the prediction of the MGP and the regular GPR model."
   ]
  },
  {
   "cell_type": "code",
   "execution_count": 4,
   "metadata": {
    "scrolled": false
   },
   "outputs": [
    {
     "name": "stdout",
     "output_type": "stream",
     "text": [
      "Evaluated\n"
     ]
    },
    {
     "data": {
      "image/png": "[encoded data removed]",
      "text/plain": [
       "<matplotlib.figure.Figure at 0x11a278f98>"
      ]
     },
     "metadata": {},
     "output_type": "display_data"
    }
   ],
   "source": [
    "X = np.array(np.linspace(-4, 4, 100)[:, None])\n",
    "fms, fvs = m.predict_f(X)\n",
    "print('Evaluated')\n",
    "\n",
    "plt.subplot(1, 2, 1)\n",
    "plt.scatter(x, y)\n",
    "plt.plot(X.flatten(), fms.flatten())\n",
    "plt.fill_between(X.flatten(), fms.flatten() - 2 * np.sqrt(fvs.flatten()), fms.flatten() + 2 * np.sqrt(fvs.flatten()),\n",
    "                 alpha=0.2)\n",
    "plt.title('MGP - GPR')\n",
    "plt.subplot(1, 2, 2)\n",
    "plt.scatter(x, y)\n",
    "fm, fv = m.wrapped.predict_f(X)\n",
    "plt.plot(X.flatten(), fm.flatten())\n",
    "plt.fill_between(X.flatten(), fm.flatten() - 2 * np.sqrt(fv.flatten()), fm.flatten() + 2 * np.sqrt(fv.flatten()),\n",
    "                 alpha=0.2)\n",
    "plt.title('GPR')\n",
    "plt.show()"
   ]
  },
  {
   "cell_type": "code",
   "execution_count": null,
   "metadata": {},
   "outputs": [],
   "source": [
    ""
   ]
  }
 ],
 "metadata": {
  "kernelspec": {
   "display_name": "Python 3",
   "language": "python",
   "name": "python3"
  },
  "language_info": {
   "codemirror_mode": {
    "name": "ipython",
    "version": 3.0
   },
   "file_extension": ".py",
   "mimetype": "text/x-python",
   "name": "python",
   "nbconvert_exporter": "python",
   "pygments_lexer": "ipython3",
   "version": "3.5.2"
  }
 },
 "nbformat": 4,
 "nbformat_minor": 0
}